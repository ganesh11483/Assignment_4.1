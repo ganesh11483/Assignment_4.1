{
 "cells": [
  {
   "cell_type": "code",
   "execution_count": 5,
   "metadata": {},
   "outputs": [],
   "source": [
    "def ispalindrome(my_str):\n",
    "    #my_str = 'aIbohPhoBiA'\n",
    "    # make it suitable for caseless comparison\n",
    "    my_str = my_str.casefold()\n",
    "    # reverse the string\n",
    "    rev_str = reversed(my_str)\n",
    "    # check if the string is equal to its reverse\n",
    "    if list(my_str) == list(rev_str):\n",
    "       print(\"It is palindrome\")\n",
    "    else:\n",
    "       print(\"It is not palindrome\")"
   ]
  }
 ],
 "metadata": {
  "kernelspec": {
   "display_name": "Python 3",
   "language": "python",
   "name": "python3"
  },
  "language_info": {
   "codemirror_mode": {
    "name": "ipython",
    "version": 3
   },
   "file_extension": ".py",
   "mimetype": "text/x-python",
   "name": "python",
   "nbconvert_exporter": "python",
   "pygments_lexer": "ipython3",
   "version": "3.6.5"
  }
 },
 "nbformat": 4,
 "nbformat_minor": 2
}
