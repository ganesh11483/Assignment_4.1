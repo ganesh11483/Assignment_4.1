{
 "cells": [
  {
   "cell_type": "code",
   "execution_count": 6,
   "metadata": {},
   "outputs": [],
   "source": [
    "def fib2(n):\n",
    "    n1 = 0\n",
    "    n2 = 1\n",
    "    count = 0\n",
    "    if n <= 0:\n",
    "       print(\"Please enter a positive integer\")\n",
    "    elif n == 1:\n",
    "       print(\"Fibonacci sequence upto\",n,\":\")\n",
    "       print(n1)\n",
    "    else:\n",
    "       print(\"Fibonacci sequence upto\",n,\":\")\n",
    "       while count < n:\n",
    "           print(n1,end=' , ')\n",
    "           nth = n1 + n2\n",
    "           # update values\n",
    "           n1 = n2\n",
    "           n2 = nth\n",
    "           count += 1"
   ]
  }
 ],
 "metadata": {
  "kernelspec": {
   "display_name": "Python 3",
   "language": "python",
   "name": "python3"
  },
  "language_info": {
   "codemirror_mode": {
    "name": "ipython",
    "version": 3
   },
   "file_extension": ".py",
   "mimetype": "text/x-python",
   "name": "python",
   "nbconvert_exporter": "python",
   "pygments_lexer": "ipython3",
   "version": "3.6.5"
  }
 },
 "nbformat": 4,
 "nbformat_minor": 2
}
